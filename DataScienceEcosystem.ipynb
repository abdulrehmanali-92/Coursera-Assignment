{
 "cells": [
  {
   "cell_type": "markdown",
   "id": "a70ea7cc-e7fb-4338-a847-19616df6480b",
   "metadata": {},
   "source": [
    "# Data Science Tool and Ecosystem"
   ]
  },
  {
   "cell_type": "markdown",
   "id": "36c25f98-bada-4e2b-8b25-71c49744cc3a",
   "metadata": {},
   "source": [
    "In this notebook, Data Science Tools and Ecosystem are summarized."
   ]
  },
  {
   "cell_type": "markdown",
   "id": "7c8f65ca-8af5-4bad-b31c-5001ec14d4d1",
   "metadata": {},
   "source": [
    "Some of the popular languages that Data Scientists use are:"
   ]
  },
  {
   "cell_type": "markdown",
   "id": "72f42706-04f9-4f09-b099-ec777e0533ba",
   "metadata": {},
   "source": [
    "1. Python\n",
    "2. R\n",
    "3. SQL"
   ]
  },
  {
   "cell_type": "markdown",
   "id": "a8820094-d39f-42a7-b3c3-fc812001e37a",
   "metadata": {},
   "source": [
    "Some of the commonly used libraries used by Data Scientists include:"
   ]
  },
  {
   "cell_type": "markdown",
   "id": "1dec88bb-b1f1-462e-9bac-a0c2927753af",
   "metadata": {},
   "source": [
    "1. Pandas\n",
    "2. NumPy\n",
    "3. TensorFlow"
   ]
  },
  {
   "cell_type": "markdown",
   "id": "43102b7a-c3e0-44cc-9887-694ecfca7ed3",
   "metadata": {},
   "source": [
    "| Data Science Tools       |\n",
    "|--------------------------|\n",
    "| Jupyter Notebook         |\n",
    "| RStudio                  |\n",
    "| Apache Zeppelin          |"
   ]
  },
  {
   "cell_type": "markdown",
   "id": "538624e6-31dc-4889-b5e5-9427845ba8d0",
   "metadata": {},
   "source": [
    "### Below are a few examples of evaluating arithmetic expressions in Python"
   ]
  },
  {
   "cell_type": "code",
   "execution_count": 2,
   "id": "98a3dd88-16ae-4c0d-ad25-7ad8077d30a8",
   "metadata": {},
   "outputs": [
    {
     "data": {
      "text/plain": [
       "17"
      ]
     },
     "execution_count": 2,
     "metadata": {},
     "output_type": "execute_result"
    }
   ],
   "source": [
    "# This a simple arithmetic expression to mutiply then add integers\n",
    "(3*4)+5"
   ]
  },
  {
   "cell_type": "code",
   "execution_count": 3,
   "id": "3c56fd7e-85be-4c91-b8bb-b9bf6e3599bd",
   "metadata": {},
   "outputs": [
    {
     "data": {
      "text/plain": [
       "3.3333333333333335"
      ]
     },
     "execution_count": 3,
     "metadata": {},
     "output_type": "execute_result"
    }
   ],
   "source": [
    "#  This will convert 200 minutes to hours by diving by 60.\n",
    "200/60"
   ]
  },
  {
   "cell_type": "markdown",
   "id": "478cc3e9-baae-410e-b162-e93f619ad38c",
   "metadata": {},
   "source": [
    "**Objectives:**\n",
    "\n",
    "- List popular languages for Data Science  \n",
    "- List commonly used libraries for Data Science  \n",
    "- Create tables and lists using markdown  \n",
    "- Perform arithmetic operations using Python  \n",
    "- Share Jupyter Notebooks through GitHub"
   ]
  },
  {
   "cell_type": "markdown",
   "id": "e91b73ae-b511-4f1e-ada6-c47d8326a3b1",
   "metadata": {},
   "source": [
    "## Author\n",
    "Abdul Rehman Ali"
   ]
  },
  {
   "cell_type": "code",
   "execution_count": null,
   "id": "03ac984a-760a-4a04-bd17-22d5ea1f6040",
   "metadata": {},
   "outputs": [],
   "source": []
  }
 ],
 "metadata": {
  "kernelspec": {
   "display_name": "Python 3 (ipykernel)",
   "language": "python",
   "name": "python3"
  },
  "language_info": {
   "codemirror_mode": {
    "name": "ipython",
    "version": 3
   },
   "file_extension": ".py",
   "mimetype": "text/x-python",
   "name": "python",
   "nbconvert_exporter": "python",
   "pygments_lexer": "ipython3",
   "version": "3.13.5"
  }
 },
 "nbformat": 4,
 "nbformat_minor": 5
}
